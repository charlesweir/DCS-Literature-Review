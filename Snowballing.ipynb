{
 "cells": [
  {
   "cell_type": "markdown",
   "metadata": {},
   "source": [
    "# Snowballing, for rounds 2 and above\n",
    "\n",
    "This takes each newly-coded spreadsheet of papers and queries further 'related articles' from the newly selected papers. Each time it runs it retrieves a new set of candidates and adds them to the list, saving them to a new spreadsheet.\n",
    "\n",
    "Before starting, the previous spreadsheet, PapersToCode.xlsx (starting with N=2), should be double coded, adding coding values (7 or above means 'accept') in the AgreedScore column (the result of coder discussion - if you're double coding, use the Coder1 and Coder2 columns for the two coders' values). Save the result as CodedPapers.xlsx.\n",
    "\n",
    "Change the coder names in the CodedPapers spreadsheet and Analysis notebook if desired.\n",
    "\n",
    "Copyright &copy; Charles Weir 2021.   \n",
    "Shared under the Apache 2.0 License"
   ]
  },
  {
   "cell_type": "code",
   "execution_count": 1,
   "metadata": {},
   "outputs": [],
   "source": [
    "# We upped this count after round 3 to 19 (see Analysis notebook)\n",
    "RequiredAnnualCount=1\n",
    "FinalYear=2021"
   ]
  },
  {
   "cell_type": "code",
   "execution_count": 2,
   "metadata": {
    "colab": {
     "base_uri": "https://localhost:8080/",
     "height": 293
    },
    "colab_type": "code",
    "id": "VD37eEggwAcN",
    "outputId": "016164cc-d8df-42fe-8797-48482a2513bb"
   },
   "outputs": [],
   "source": [
    "# !pip install google-search-results\n",
    "from serpapi import GoogleScholarSearch\n",
    "from ScholarUtils import GetPapers, GetPaper, WellCitedPapers, InitScholar, RelatedQuery"
   ]
  },
  {
   "cell_type": "code",
   "execution_count": 3,
   "metadata": {
    "colab": {
     "base_uri": "https://localhost:8080/",
     "height": 423
    },
    "colab_type": "code",
    "id": "bg0FZIzozs9Q",
    "outputId": "7f97b83a-f557-46f8-c472-ce361aa121f6"
   },
   "outputs": [],
   "source": [
    "import pandas as pd\n",
    "import numpy as np\n",
    "import pickle\n",
    "# Reload ScholarUtils every time before executing code \n",
    "%load_ext autoreload\n",
    "%autoreload 2"
   ]
  },
  {
   "cell_type": "code",
   "execution_count": 4,
   "metadata": {},
   "outputs": [],
   "source": [
    "InitScholar(\"APIKey.yaml\")"
   ]
  },
  {
   "cell_type": "code",
   "execution_count": 5,
   "metadata": {},
   "outputs": [
    {
     "data": {
      "text/plain": [
       "6"
      ]
     },
     "execution_count": 5,
     "metadata": {},
     "output_type": "execute_result"
    }
   ],
   "source": [
    "scoringSpreadsheet=\"CodedPapers.xlsx\"\n",
    "previousPapersDf=(pd.read_excel(scoringSpreadsheet, index_col=0,\n",
    "                                # Want Key as string, not number, to match WellCitedPapers() output:\n",
    "                              dtype={'Key':np.str_})\n",
    "                         )\n",
    "CurrentRound=previousPapersDf.Round.max()\n",
    "CurrentRound"
   ]
  },
  {
   "cell_type": "code",
   "execution_count": 6,
   "metadata": {},
   "outputs": [
    {
     "name": "stdout",
     "output_type": "stream",
     "text": [
      "6\n"
     ]
    },
    {
     "data": {
      "text/html": [
       "<div>\n",
       "<style scoped>\n",
       "    .dataframe tbody tr th:only-of-type {\n",
       "        vertical-align: middle;\n",
       "    }\n",
       "\n",
       "    .dataframe tbody tr th {\n",
       "        vertical-align: top;\n",
       "    }\n",
       "\n",
       "    .dataframe thead th {\n",
       "        text-align: right;\n",
       "    }\n",
       "</style>\n",
       "<table border=\"1\" class=\"dataframe\">\n",
       "  <thead>\n",
       "    <tr style=\"text-align: right;\">\n",
       "      <th></th>\n",
       "      <th>Key</th>\n",
       "      <th>Round</th>\n",
       "      <th>Citations</th>\n",
       "      <th>Year</th>\n",
       "      <th>Title</th>\n",
       "      <th>Authors</th>\n",
       "      <th>Link</th>\n",
       "      <th>Related</th>\n",
       "      <th>Snippet</th>\n",
       "      <th>C</th>\n",
       "      <th>P</th>\n",
       "      <th>AgreedScore</th>\n",
       "      <th>Unnamed: 13</th>\n",
       "    </tr>\n",
       "  </thead>\n",
       "  <tbody>\n",
       "    <tr>\n",
       "      <th>695</th>\n",
       "      <td>6724629180905251087</td>\n",
       "      <td>6</td>\n",
       "      <td>21</td>\n",
       "      <td>2019</td>\n",
       "      <td>Ontology-based security recommendation for the...</td>\n",
       "      <td>F Alsubaei, A Abuhussein, S Shiva</td>\n",
       "      <td>https://ieeexplore.ieee.org/abstract/document/...</td>\n",
       "      <td>D2EVhpyuUl0J</td>\n",
       "      <td>Security and privacy are among the key barrier...</td>\n",
       "      <td>NaN</td>\n",
       "      <td>NaN</td>\n",
       "      <td>7.0</td>\n",
       "      <td>NaN</td>\n",
       "    </tr>\n",
       "    <tr>\n",
       "      <th>698</th>\n",
       "      <td>10710897600124378357</td>\n",
       "      <td>6</td>\n",
       "      <td>37</td>\n",
       "      <td>2019</td>\n",
       "      <td>Security and privacy for the internet of medic...</td>\n",
       "      <td>Y Sun, FPW Lo, B Lo</td>\n",
       "      <td>https://ieeexplore.ieee.org/abstract/document/...</td>\n",
       "      <td>9Vz_WJ7ApJQJ</td>\n",
       "      <td>With the increasing demands on quality healthc...</td>\n",
       "      <td>NaN</td>\n",
       "      <td>NaN</td>\n",
       "      <td>7.0</td>\n",
       "      <td>NaN</td>\n",
       "    </tr>\n",
       "    <tr>\n",
       "      <th>729</th>\n",
       "      <td>5021234964518621637</td>\n",
       "      <td>6</td>\n",
       "      <td>54</td>\n",
       "      <td>2019</td>\n",
       "      <td>IoT smart health security threats</td>\n",
       "      <td>SA Butt, JL Diaz-Martinez, T Jamal, A Ali…</td>\n",
       "      <td>https://ieeexplore.ieee.org/abstract/document/...</td>\n",
       "      <td>xVHnuZgCr0UJ</td>\n",
       "      <td>The Internet of things (IoT) is an active area...</td>\n",
       "      <td>NaN</td>\n",
       "      <td>NaN</td>\n",
       "      <td>7.0</td>\n",
       "      <td>Dummys guide to basic attacks</td>\n",
       "    </tr>\n",
       "    <tr>\n",
       "      <th>870</th>\n",
       "      <td>16125298375562168501</td>\n",
       "      <td>6</td>\n",
       "      <td>23</td>\n",
       "      <td>2012</td>\n",
       "      <td>Risk-driven security metrics in agile software...</td>\n",
       "      <td>RM Savola, C Frühwirth, A Pietikäinen</td>\n",
       "      <td>http://jucs.org/jucs_18_12/risk_driven_securit...</td>\n",
       "      <td>tQiR5G-RyN8J</td>\n",
       "      <td>The need for effective and efficient informati...</td>\n",
       "      <td>NaN</td>\n",
       "      <td>NaN</td>\n",
       "      <td>7.0</td>\n",
       "      <td>Like the risk-driven bit.</td>\n",
       "    </tr>\n",
       "    <tr>\n",
       "      <th>970</th>\n",
       "      <td>16205524198307687761</td>\n",
       "      <td>6</td>\n",
       "      <td>2</td>\n",
       "      <td>2020</td>\n",
       "      <td>Operationalization of privacy and security req...</td>\n",
       "      <td>O Tomashchuk, Y Li, D Van Landuyt, W Joosen</td>\n",
       "      <td>https://link.springer.com/chapter/10.1007/978-...</td>\n",
       "      <td>UW0g12WW5eAJ</td>\n",
       "      <td>Abstract The Fourth Industrial Revolution impo...</td>\n",
       "      <td>NaN</td>\n",
       "      <td>NaN</td>\n",
       "      <td>7.0</td>\n",
       "      <td>NaN</td>\n",
       "    </tr>\n",
       "    <tr>\n",
       "      <th>1113</th>\n",
       "      <td>9619492135223642694</td>\n",
       "      <td>6</td>\n",
       "      <td>17</td>\n",
       "      <td>2015</td>\n",
       "      <td>A value blueprint approach to cybersecurity in...</td>\n",
       "      <td>G Tanev, P Tzolov, R Apiafi</td>\n",
       "      <td>https://timreview.ca/sites/default/files/artic...</td>\n",
       "      <td>RkqrdyFNf4UJ</td>\n",
       "      <td>Cybersecurity for networked medical devices ha...</td>\n",
       "      <td>NaN</td>\n",
       "      <td>NaN</td>\n",
       "      <td>7.0</td>\n",
       "      <td>Emphasises stakeholder value</td>\n",
       "    </tr>\n",
       "  </tbody>\n",
       "</table>\n",
       "</div>"
      ],
      "text/plain": [
       "                       Key  Round  Citations  Year  \\\n",
       "695    6724629180905251087      6         21  2019   \n",
       "698   10710897600124378357      6         37  2019   \n",
       "729    5021234964518621637      6         54  2019   \n",
       "870   16125298375562168501      6         23  2012   \n",
       "970   16205524198307687761      6          2  2020   \n",
       "1113   9619492135223642694      6         17  2015   \n",
       "\n",
       "                                                  Title  \\\n",
       "695   Ontology-based security recommendation for the...   \n",
       "698   Security and privacy for the internet of medic...   \n",
       "729                   IoT smart health security threats   \n",
       "870   Risk-driven security metrics in agile software...   \n",
       "970   Operationalization of privacy and security req...   \n",
       "1113  A value blueprint approach to cybersecurity in...   \n",
       "\n",
       "                                          Authors  \\\n",
       "695             F Alsubaei, A Abuhussein, S Shiva   \n",
       "698                           Y Sun, FPW Lo, B Lo   \n",
       "729    SA Butt, JL Diaz-Martinez, T Jamal, A Ali…   \n",
       "870         RM Savola, C Frühwirth, A Pietikäinen   \n",
       "970   O Tomashchuk, Y Li, D Van Landuyt, W Joosen   \n",
       "1113                  G Tanev, P Tzolov, R Apiafi   \n",
       "\n",
       "                                                   Link       Related  \\\n",
       "695   https://ieeexplore.ieee.org/abstract/document/...  D2EVhpyuUl0J   \n",
       "698   https://ieeexplore.ieee.org/abstract/document/...  9Vz_WJ7ApJQJ   \n",
       "729   https://ieeexplore.ieee.org/abstract/document/...  xVHnuZgCr0UJ   \n",
       "870   http://jucs.org/jucs_18_12/risk_driven_securit...  tQiR5G-RyN8J   \n",
       "970   https://link.springer.com/chapter/10.1007/978-...  UW0g12WW5eAJ   \n",
       "1113  https://timreview.ca/sites/default/files/artic...  RkqrdyFNf4UJ   \n",
       "\n",
       "                                                Snippet   C   P  AgreedScore  \\\n",
       "695   Security and privacy are among the key barrier... NaN NaN          7.0   \n",
       "698   With the increasing demands on quality healthc... NaN NaN          7.0   \n",
       "729   The Internet of things (IoT) is an active area... NaN NaN          7.0   \n",
       "870   The need for effective and efficient informati... NaN NaN          7.0   \n",
       "970   Abstract The Fourth Industrial Revolution impo... NaN NaN          7.0   \n",
       "1113  Cybersecurity for networked medical devices ha... NaN NaN          7.0   \n",
       "\n",
       "                        Unnamed: 13  \n",
       "695                             NaN  \n",
       "698                             NaN  \n",
       "729   Dummys guide to basic attacks  \n",
       "870       Like the risk-driven bit.  \n",
       "970                             NaN  \n",
       "1113   Emphasises stakeholder value  "
      ]
     },
     "execution_count": 6,
     "metadata": {},
     "output_type": "execute_result"
    }
   ],
   "source": [
    "# Get the accepted papers from the latest round of coding:\n",
    "papersToFollowDf=previousPapersDf.query('Round=={} and AgreedScore > 6'.format(CurrentRound))\n",
    "print(len(papersToFollowDf))\n",
    "papersToFollowDf"
   ]
  },
  {
   "cell_type": "code",
   "execution_count": 7,
   "metadata": {},
   "outputs": [
    {
     "name": "stdout",
     "output_type": "stream",
     "text": [
      "Retrieving 101 papers for {'q': 'related:D2EVhpyuUl0J:scholar.google.com/'}\n",
      "Retrieving 101 papers for {'q': 'related:9Vz_WJ7ApJQJ:scholar.google.com/'}\n",
      "Retrieving 101 papers for {'q': 'related:xVHnuZgCr0UJ:scholar.google.com/'}\n",
      "Retrieving 101 papers for {'q': 'related:tQiR5G-RyN8J:scholar.google.com/'}\n",
      "Retrieving 101 papers for {'q': 'related:UW0g12WW5eAJ:scholar.google.com/'}\n",
      "Retrieving 101 papers for {'q': 'related:RkqrdyFNf4UJ:scholar.google.com/'}\n"
     ]
    },
    {
     "data": {
      "text/plain": [
       "606"
      ]
     },
     "execution_count": 7,
     "metadata": {},
     "output_type": "execute_result"
    }
   ],
   "source": [
    "# Ask Google for the 'related publications' for each newly coded item (takes a long time)\n",
    "# Concatenate returned lists...\n",
    "newPapers = [foundPaper for relatedPaper in papersToFollowDf.itertuples()\n",
    "                 for foundPaper in GetPapers(RelatedQuery(relatedPaper.Related))\n",
    "            ] \n",
    "len(newPapers)\n"
   ]
  },
  {
   "cell_type": "code",
   "execution_count": 8,
   "metadata": {},
   "outputs": [],
   "source": [
    "# papersFound.p is first created in the first step:\n",
    "with open( \"papersFound.p\", \"rb\" ) as inFile:\n",
    "    allPapers=pickle.load( inFile ) + newPapers"
   ]
  },
  {
   "cell_type": "code",
   "execution_count": 9,
   "metadata": {},
   "outputs": [],
   "source": [
    "# The Google queries take a long time and can cost money. \n",
    "# We save the results as 'pickle' dumps, \n",
    "# Can also 'comment out' the slow parts by changing the cell type of appropriate cells to 'Raw NB Convert'; \n",
    "# to redo the queries, convert them back again to Code.\n",
    "\n",
    "with open( \"papersFound.p\", \"wb\" ) as outFile:\n",
    "    pickle.dump( allPapers, outFile )"
   ]
  },
  {
   "cell_type": "code",
   "execution_count": 10,
   "metadata": {},
   "outputs": [
    {
     "data": {
      "text/plain": [
       "2377"
      ]
     },
     "execution_count": 10,
     "metadata": {},
     "output_type": "execute_result"
    }
   ],
   "source": [
    "# How many unique papers so far?\n",
    "\n",
    "pd.Series([paper['result_id'] for paper in allPapers]).unique().size"
   ]
  },
  {
   "cell_type": "code",
   "execution_count": 11,
   "metadata": {},
   "outputs": [
    {
     "data": {
      "text/plain": [
       "325"
      ]
     },
     "execution_count": 11,
     "metadata": {},
     "output_type": "execute_result"
    }
   ],
   "source": [
    "newPapersDf=(WellCitedPapers(newPapers, requiredAnnualCount=RequiredAnnualCount, finalYear=FinalYear)\n",
    "           .reindex(columns=previousPapersDf.columns, fill_value='') # Add in the extra classification columns.\n",
    "            .assign(Round=CurrentRound+1)\n",
    "          )\n",
    "len(newPapersDf)"
   ]
  },
  {
   "cell_type": "code",
   "execution_count": 12,
   "metadata": {},
   "outputs": [
    {
     "data": {
      "text/plain": [
       "1459"
      ]
     },
     "execution_count": 12,
     "metadata": {},
     "output_type": "execute_result"
    }
   ],
   "source": [
    "allPapersSoFarDf=(pd.concat([previousPapersDf, newPapersDf]) # Keep already coded papers - don't want to recode.\n",
    "                .drop_duplicates(subset=['Key'])  # Only want new ones - this keeps the earlier entries.\n",
    "                .reset_index(drop=True)           # Don't need to keep the old numbering.\n",
    "               )\n",
    "allPapersSoFarDf.to_excel('PapersToCode.xlsx')\n",
    "len(allPapersSoFarDf)\n",
    "#allPapersSoFarDf"
   ]
  },
  {
   "cell_type": "code",
   "execution_count": 13,
   "metadata": {},
   "outputs": [],
   "source": [
    "!open PapersToCode.xlsx"
   ]
  },
  {
   "cell_type": "code",
   "execution_count": 14,
   "metadata": {},
   "outputs": [
    {
     "ename": "AssertionError",
     "evalue": "",
     "output_type": "error",
     "traceback": [
      "\u001b[0;31m---------------------------------------------------------------------------\u001b[0m",
      "\u001b[0;31mAssertionError\u001b[0m                            Traceback (most recent call last)",
      "\u001b[0;32m<ipython-input-14-8808c4021c9c>\u001b[0m in \u001b[0;36m<module>\u001b[0;34m\u001b[0m\n\u001b[0;32m----> 1\u001b[0;31m \u001b[0;32massert\u001b[0m\u001b[0;34m(\u001b[0m\u001b[0;32mFalse\u001b[0m\u001b[0;34m)\u001b[0m\u001b[0;34m\u001b[0m\u001b[0;34m\u001b[0m\u001b[0m\n\u001b[0m",
      "\u001b[0;31mAssertionError\u001b[0m: "
     ]
    }
   ],
   "source": [
    "assert(False)"
   ]
  },
  {
   "cell_type": "code",
   "execution_count": null,
   "metadata": {},
   "outputs": [],
   "source": [
    "!open ScholarUtils.py"
   ]
  },
  {
   "cell_type": "code",
   "execution_count": null,
   "metadata": {},
   "outputs": [],
   "source": []
  }
 ],
 "metadata": {
  "colab": {
   "collapsed_sections": [],
   "include_colab_link": true,
   "name": "NLP_example_clustering.ipynb",
   "provenance": []
  },
  "kernelspec": {
   "display_name": "Python 3",
   "language": "python",
   "name": "python3"
  },
  "language_info": {
   "codemirror_mode": {
    "name": "ipython",
    "version": 3
   },
   "file_extension": ".py",
   "mimetype": "text/x-python",
   "name": "python",
   "nbconvert_exporter": "python",
   "pygments_lexer": "ipython3",
   "version": "3.7.9"
  }
 },
 "nbformat": 4,
 "nbformat_minor": 1
}
