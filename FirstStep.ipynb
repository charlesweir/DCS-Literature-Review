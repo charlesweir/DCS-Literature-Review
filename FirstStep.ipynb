{
 "cells": [
  {
   "cell_type": "markdown",
   "metadata": {},
   "source": [
    "# First Step: Round 1\n",
    "\n",
    "This queries Google Scholar for the three 'seed' papers, saving the result as 'round 1' in a spreadsheet for dual coding, and the Scholar results in a pickle file for the next stage.\n",
    "\n",
    "Copyright &copy; 2021.   \n",
    "Shared under the Apache 2.0 License"
   ]
  },
  {
   "cell_type": "code",
   "execution_count": 8,
   "metadata": {
    "colab": {
     "base_uri": "https://localhost:8080/",
     "height": 423
    },
    "colab_type": "code",
    "id": "bg0FZIzozs9Q",
    "outputId": "7f97b83a-f557-46f8-c472-ce361aa121f6"
   },
   "outputs": [],
   "source": [
    "# !pip install google-search-results\n",
    "from serpapi import GoogleScholarSearch, GoogleSearch\n",
    "import pandas as pd\n",
    "import numpy as np\n",
    "import pickle\n",
    "from ScholarUtils import GetPapers, GetPaper, WellCitedPapers, InitScholar, RelatedQuery\n",
    "# Reload ScholarUtils every time before executing code \n",
    "%reload_ext autoreload\n",
    "%autoreload 2"
   ]
  },
  {
   "cell_type": "code",
   "execution_count": 9,
   "metadata": {},
   "outputs": [],
   "source": [
    "InitScholar(\"APIKey.yaml\")"
   ]
  },
  {
   "cell_type": "code",
   "execution_count": 10,
   "metadata": {},
   "outputs": [],
   "source": [
    "initialPaperSearches=[\n",
    "    'How to Measure Anything in Cybersecurity Risk. Douglas W Hubbard',\n",
    "    'T. D. Wagner, K. Mahbub, E. Palomar, and A. E. Abdallah, Cyber threat intelligence sharing: Survey and research directions',\n",
    "]"
   ]
  },
  {
   "cell_type": "code",
   "execution_count": 14,
   "metadata": {},
   "outputs": [
    {
     "name": "stdout",
     "output_type": "stream",
     "text": [
      "Retrieving 1 paper for {'q': 'How to Measure Anything in Cybersecurity Risk. Douglas W Hubbard'}\n",
      "Retrieving 1 paper for {'q': 'T. D. Wagner, K. Mahbub, E. Palomar, and A. E. Abdallah, Cyber threat intelligence sharing: Survey and research directions'}\n"
     ]
    }
   ],
   "source": [
    "initialPapers=[GetPaper({'q': search}) for search in initialPaperSearches]"
   ]
  },
  {
   "cell_type": "code",
   "execution_count": 12,
   "metadata": {},
   "outputs": [
    {
     "data": {
      "text/html": [
       "<div>\n",
       "<style scoped>\n",
       "    .dataframe tbody tr th:only-of-type {\n",
       "        vertical-align: middle;\n",
       "    }\n",
       "\n",
       "    .dataframe tbody tr th {\n",
       "        vertical-align: top;\n",
       "    }\n",
       "\n",
       "    .dataframe thead th {\n",
       "        text-align: right;\n",
       "    }\n",
       "</style>\n",
       "<table border=\"1\" class=\"dataframe\">\n",
       "  <thead>\n",
       "    <tr style=\"text-align: right;\">\n",
       "      <th></th>\n",
       "      <th>Key</th>\n",
       "      <th>Round</th>\n",
       "      <th>Citations</th>\n",
       "      <th>Year</th>\n",
       "      <th>Title</th>\n",
       "      <th>Authors</th>\n",
       "      <th>Link</th>\n",
       "      <th>Related</th>\n",
       "      <th>Snippet</th>\n",
       "      <th>C</th>\n",
       "      <th>P</th>\n",
       "      <th>AgreedScore</th>\n",
       "    </tr>\n",
       "  </thead>\n",
       "  <tbody>\n",
       "    <tr>\n",
       "      <th>0</th>\n",
       "      <td>2158158161114378793</td>\n",
       "      <td>1</td>\n",
       "      <td>123</td>\n",
       "      <td>2016</td>\n",
       "      <td>How to measure anything in cybersecurity risk</td>\n",
       "      <td>DW Hubbard, R Seiersen</td>\n",
       "      <td>https://books.google.com/books?hl=en&amp;lr=&amp;id=Aw...</td>\n",
       "      <td>KTJVwmlR8x0J</td>\n",
       "      <td>A ground shaking exposé on the failure of popu...</td>\n",
       "      <td></td>\n",
       "      <td></td>\n",
       "      <td></td>\n",
       "    </tr>\n",
       "    <tr>\n",
       "      <th>1</th>\n",
       "      <td>856727435201930563</td>\n",
       "      <td>1</td>\n",
       "      <td>31</td>\n",
       "      <td>2019</td>\n",
       "      <td>Cyber threat intelligence sharing: Survey and ...</td>\n",
       "      <td>TD Wagner, K Mahbub, E Palomar, AE Abdallah</td>\n",
       "      <td>https://www.sciencedirect.com/science/article/...</td>\n",
       "      <td>Q-WKLBC14wsJ</td>\n",
       "      <td>Abstract Cyber Threat Intelligence (CTI) shari...</td>\n",
       "      <td></td>\n",
       "      <td></td>\n",
       "      <td></td>\n",
       "    </tr>\n",
       "  </tbody>\n",
       "</table>\n",
       "</div>"
      ],
      "text/plain": [
       "                   Key  Round  Citations  Year  \\\n",
       "0  2158158161114378793      1        123  2016   \n",
       "1   856727435201930563      1         31  2019   \n",
       "\n",
       "                                               Title  \\\n",
       "0      How to measure anything in cybersecurity risk   \n",
       "1  Cyber threat intelligence sharing: Survey and ...   \n",
       "\n",
       "                                       Authors  \\\n",
       "0                       DW Hubbard, R Seiersen   \n",
       "1  TD Wagner, K Mahbub, E Palomar, AE Abdallah   \n",
       "\n",
       "                                                Link       Related  \\\n",
       "0  https://books.google.com/books?hl=en&lr=&id=Aw...  KTJVwmlR8x0J   \n",
       "1  https://www.sciencedirect.com/science/article/...  Q-WKLBC14wsJ   \n",
       "\n",
       "                                             Snippet C P AgreedScore  \n",
       "0  A ground shaking exposé on the failure of popu...                  \n",
       "1  Abstract Cyber Threat Intelligence (CTI) shari...                  "
      ]
     },
     "execution_count": 12,
     "metadata": {},
     "output_type": "execute_result"
    }
   ],
   "source": [
    "initialPapersDf=(WellCitedPapers(initialPapers) # Includes the Related, which is what we want\n",
    "                 .assign(Round=1)\n",
    "                 # Coders are C and P:\n",
    "                 .reindex(columns=['Key','Round','Citations','Year','Title','Authors','Link','Related','Snippet',\n",
    "                                   'Coder1','Coder2','AgreedScore'],fill_value='')\n",
    "                )\n",
    "initialPapersDf"
   ]
  },
  {
   "cell_type": "code",
   "execution_count": 6,
   "metadata": {},
   "outputs": [],
   "source": [
    "initialPapersDf.to_excel('PapersToCode.xlsx')\n",
    "with open( \"papersFound.p\", \"wb\" ) as outFile:\n",
    "    pickle.dump( initialPapers, outFile )"
   ]
  },
  {
   "cell_type": "code",
   "execution_count": 7,
   "metadata": {},
   "outputs": [],
   "source": [
    "!open PapersToCode.xlsx"
   ]
  },
  {
   "cell_type": "code",
   "execution_count": null,
   "metadata": {},
   "outputs": [],
   "source": []
  }
 ],
 "metadata": {
  "colab": {
   "collapsed_sections": [],
   "include_colab_link": true,
   "name": "NLP_example_clustering.ipynb",
   "provenance": []
  },
  "kernelspec": {
   "display_name": "Python 3",
   "language": "python",
   "name": "python3"
  },
  "language_info": {
   "codemirror_mode": {
    "name": "ipython",
    "version": 3
   },
   "file_extension": ".py",
   "mimetype": "text/x-python",
   "name": "python",
   "nbconvert_exporter": "python",
   "pygments_lexer": "ipython3",
   "version": "3.7.9"
  }
 },
 "nbformat": 4,
 "nbformat_minor": 1
}
