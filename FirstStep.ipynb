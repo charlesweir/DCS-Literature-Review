{
 "cells": [
  {
   "cell_type": "markdown",
   "metadata": {},
   "source": [
    "# First Step: Round 1\n",
    "\n",
    "This queries Google Scholar for the three 'seed' papers, saving the result as 'round 1' in a spreadsheet for dual coding, and the Scholar results in a pickle file for the next stage.\n",
    "\n",
    "Copyright &copy; 2021.   \n",
    "Shared under the Apache 2.0 License"
   ]
  },
  {
   "cell_type": "code",
   "execution_count": 8,
   "metadata": {
    "colab": {
     "base_uri": "https://localhost:8080/",
     "height": 423
    },
    "colab_type": "code",
    "id": "bg0FZIzozs9Q",
    "outputId": "7f97b83a-f557-46f8-c472-ce361aa121f6"
   },
   "outputs": [],
   "source": [
    "# !pip install google-search-results\n",
    "from serpapi import GoogleScholarSearch, GoogleSearch\n",
    "import pandas as pd\n",
    "import numpy as np\n",
    "import pickle\n",
    "from ScholarUtils import GetPapers, GetPaper, WellCitedPapers, InitScholar, RelatedQuery\n",
    "# Reload ScholarUtils every time before executing code \n",
    "%reload_ext autoreload\n",
    "%autoreload 2"
   ]
  },
  {
   "cell_type": "code",
   "execution_count": 9,
   "metadata": {},
   "outputs": [],
   "source": [
    "InitScholar(\"APIKey.yaml\")"
   ]
  },
  {
   "cell_type": "code",
   "execution_count": 10,
   "metadata": {},
   "outputs": [],
   "source": [
    "initialPaperSearches=[\n",
    "    'Software engineering for security: a roadmap PT Devanbu',\n",
    "    'You Get Where You’re Looking For: The Impact of Information Sources on Code Security, Acar et al',\n",
    "    'A Survey on Developer-Centred Security, by Tahaei & Vaniea'\n",
    "]"
   ]
  },
  {
   "cell_type": "code",
   "execution_count": 11,
   "metadata": {},
   "outputs": [
    {
     "name": "stdout",
     "output_type": "stream",
     "text": [
      "GetPaper:{'q': 'Software engineering for security: a roadmap PT Devanbu'}\n",
      "GetPaper:{'q': 'You Get Where You’re Looking For: The Impact of Information Sources on Code Security, Acar et al'}\n",
      "GetPaper:{'q': 'A Survey on Developer-Centred Security, by Tahaei & Vaniea'}\n"
     ]
    }
   ],
   "source": [
    "initialPapers=[GetPaper({'q': search}) for search in initialPaperSearches]"
   ]
  },
  {
   "cell_type": "code",
   "execution_count": 12,
   "metadata": {},
   "outputs": [
    {
     "data": {
      "text/html": [
       "<div>\n",
       "<style scoped>\n",
       "    .dataframe tbody tr th:only-of-type {\n",
       "        vertical-align: middle;\n",
       "    }\n",
       "\n",
       "    .dataframe tbody tr th {\n",
       "        vertical-align: top;\n",
       "    }\n",
       "\n",
       "    .dataframe thead th {\n",
       "        text-align: right;\n",
       "    }\n",
       "</style>\n",
       "<table border=\"1\" class=\"dataframe\">\n",
       "  <thead>\n",
       "    <tr style=\"text-align: right;\">\n",
       "      <th></th>\n",
       "      <th>Key</th>\n",
       "      <th>Round</th>\n",
       "      <th>Citations</th>\n",
       "      <th>Year</th>\n",
       "      <th>Title</th>\n",
       "      <th>Authors</th>\n",
       "      <th>Link</th>\n",
       "      <th>Related</th>\n",
       "      <th>Snippet</th>\n",
       "      <th>C</th>\n",
       "      <th>P</th>\n",
       "      <th>AgreedScore</th>\n",
       "    </tr>\n",
       "  </thead>\n",
       "  <tbody>\n",
       "    <tr>\n",
       "      <th>0</th>\n",
       "      <td>17567618191233461182</td>\n",
       "      <td>1</td>\n",
       "      <td>645</td>\n",
       "      <td>2000</td>\n",
       "      <td>Software engineering for security: a roadmap</td>\n",
       "      <td>PT Devanbu, S Stubblebine</td>\n",
       "      <td>https://dl.acm.org/doi/abs/10.1145/336512.336559</td>\n",
       "      <td>visp7qq3zPMJ</td>\n",
       "      <td>Is there such a thing anymore as a software sy...</td>\n",
       "      <td></td>\n",
       "      <td></td>\n",
       "      <td></td>\n",
       "    </tr>\n",
       "    <tr>\n",
       "      <th>1</th>\n",
       "      <td>7379463099867128855</td>\n",
       "      <td>1</td>\n",
       "      <td>188</td>\n",
       "      <td>2016</td>\n",
       "      <td>You get where you're looking for: The impact o...</td>\n",
       "      <td>Y Acar, M Backes, S Fahl, D Kim…</td>\n",
       "      <td>https://ieeexplore.ieee.org/abstract/document/...</td>\n",
       "      <td>F-SuXJceaWYJ</td>\n",
       "      <td>Vulnerabilities in Android code--including but...</td>\n",
       "      <td></td>\n",
       "      <td></td>\n",
       "      <td></td>\n",
       "    </tr>\n",
       "    <tr>\n",
       "      <th>2</th>\n",
       "      <td>3515120953808077324</td>\n",
       "      <td>1</td>\n",
       "      <td>21</td>\n",
       "      <td>2019</td>\n",
       "      <td>A Survey on Developer-Centred Security</td>\n",
       "      <td>M Tahaei, K Vaniea</td>\n",
       "      <td>https://ieeexplore.ieee.org/abstract/document/...</td>\n",
       "      <td>DEJDMuI3yDAJ</td>\n",
       "      <td>Software developers are key players in the sec...</td>\n",
       "      <td></td>\n",
       "      <td></td>\n",
       "      <td></td>\n",
       "    </tr>\n",
       "  </tbody>\n",
       "</table>\n",
       "</div>"
      ],
      "text/plain": [
       "                    Key  Round  Citations  Year  \\\n",
       "0  17567618191233461182      1        645  2000   \n",
       "1   7379463099867128855      1        188  2016   \n",
       "2   3515120953808077324      1         21  2019   \n",
       "\n",
       "                                               Title  \\\n",
       "0       Software engineering for security: a roadmap   \n",
       "1  You get where you're looking for: The impact o...   \n",
       "2             A Survey on Developer-Centred Security   \n",
       "\n",
       "                            Authors  \\\n",
       "0         PT Devanbu, S Stubblebine   \n",
       "1  Y Acar, M Backes, S Fahl, D Kim…   \n",
       "2                M Tahaei, K Vaniea   \n",
       "\n",
       "                                                Link       Related  \\\n",
       "0   https://dl.acm.org/doi/abs/10.1145/336512.336559  visp7qq3zPMJ   \n",
       "1  https://ieeexplore.ieee.org/abstract/document/...  F-SuXJceaWYJ   \n",
       "2  https://ieeexplore.ieee.org/abstract/document/...  DEJDMuI3yDAJ   \n",
       "\n",
       "                                             Snippet C P AgreedScore  \n",
       "0  Is there such a thing anymore as a software sy...                  \n",
       "1  Vulnerabilities in Android code--including but...                  \n",
       "2  Software developers are key players in the sec...                  "
      ]
     },
     "execution_count": 12,
     "metadata": {},
     "output_type": "execute_result"
    }
   ],
   "source": [
    "initialPapersDf=(WellCitedPapers(initialPapers) # Includes the Related, which is what we want\n",
    "                 .assign(Round=1)\n",
    "                 # Coders are C and P:\n",
    "                 .reindex(columns=['Key','Round','Citations','Year','Title','Authors','Link','Related','Snippet',\n",
    "                                   'C','P','AgreedScore'],fill_value='')\n",
    "                )\n",
    "initialPapersDf"
   ]
  },
  {
   "cell_type": "code",
   "execution_count": 13,
   "metadata": {},
   "outputs": [],
   "source": [
    "initialPapersDf.to_excel('PapersToCode.xlsx')\n",
    "with open( \"papersFound.p\", \"wb\" ) as outFile:\n",
    "    pickle.dump( initialPapers, outFile )"
   ]
  },
  {
   "cell_type": "code",
   "execution_count": 14,
   "metadata": {},
   "outputs": [],
   "source": [
    "!open PapersToCode.xlsx"
   ]
  },
  {
   "cell_type": "code",
   "execution_count": null,
   "metadata": {},
   "outputs": [],
   "source": []
  }
 ],
 "metadata": {
  "colab": {
   "collapsed_sections": [],
   "include_colab_link": true,
   "name": "NLP_example_clustering.ipynb",
   "provenance": []
  },
  "kernelspec": {
   "display_name": "Python 3",
   "language": "python",
   "name": "python3"
  },
  "language_info": {
   "codemirror_mode": {
    "name": "ipython",
    "version": 3
   },
   "file_extension": ".py",
   "mimetype": "text/x-python",
   "name": "python",
   "nbconvert_exporter": "python",
   "pygments_lexer": "ipython3",
   "version": "3.7.9"
  }
 },
 "nbformat": 4,
 "nbformat_minor": 1
}
