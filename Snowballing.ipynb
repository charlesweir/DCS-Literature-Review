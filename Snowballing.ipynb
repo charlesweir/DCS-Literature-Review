{
 "cells": [
  {
   "cell_type": "markdown",
   "metadata": {},
   "source": [
    "# Snowballing, for rounds 2 and above\n",
    "\n",
    "This takes each newly-coded spreadsheet of papers and queries further 'related articles' from the newly selected papers. Each time it runs it retrieves a new set of candidates and adds them to the list, saving them to a new spreadsheet.\n",
    "\n",
    "Before starting, the previous spreadsheet, PapersToCode.xlsx (starting with N=2), should be double coded, adding coding values (7 or above means 'accept') in the column for each coder (Charles and Pierre) and in the AgreedScore column (the result of coder discussion). Save the result as CodedPapers.xlsx.\n",
    "\n",
    "Change the coder names in the FirstStep and Analysis notebook if desired.\n",
    "\n",
    "Copyright &copy; 2021 Charles Weir.   \n",
    "Shared under the Apache 2.0 License"
   ]
  },
  {
   "cell_type": "code",
   "execution_count": 1,
   "metadata": {},
   "outputs": [],
   "source": [
    "# We upped this count after round 3 to 19 (see Analysis notebook)\n",
    "RequiredAnnualCount=8"
   ]
  },
  {
   "cell_type": "code",
   "execution_count": 2,
   "metadata": {
    "colab": {
     "base_uri": "https://localhost:8080/",
     "height": 293
    },
    "colab_type": "code",
    "id": "VD37eEggwAcN",
    "outputId": "016164cc-d8df-42fe-8797-48482a2513bb"
   },
   "outputs": [],
   "source": [
    "# !pip install google-search-results\n",
    "from serpapi import GoogleScholarSearch\n",
    "from ScholarUtils import GetPapers, GetPaper, WellCitedPapers, InitScholar, RelatedQuery"
   ]
  },
  {
   "cell_type": "code",
   "execution_count": 3,
   "metadata": {
    "colab": {
     "base_uri": "https://localhost:8080/",
     "height": 423
    },
    "colab_type": "code",
    "id": "bg0FZIzozs9Q",
    "outputId": "7f97b83a-f557-46f8-c472-ce361aa121f6"
   },
   "outputs": [],
   "source": [
    "import pandas as pd\n",
    "import numpy as np\n",
    "import pickle\n",
    "# Reload ScholarUtils every time before executing code \n",
    "%load_ext autoreload\n",
    "%autoreload 2"
   ]
  },
  {
   "cell_type": "code",
   "execution_count": 4,
   "metadata": {},
   "outputs": [],
   "source": [
    "InitScholar(\"APIKey.yaml\")"
   ]
  },
  {
   "cell_type": "code",
   "execution_count": 5,
   "metadata": {},
   "outputs": [
    {
     "data": {
      "text/plain": [
       "4"
      ]
     },
     "execution_count": 5,
     "metadata": {},
     "output_type": "execute_result"
    }
   ],
   "source": [
    "scoringSpreadsheet=\"CodedPapers.xlsx\"\n",
    "previousPapersDf=(pd.read_excel(scoringSpreadsheet, index_col=0,\n",
    "                                # Want Key as string, not number, to match WellCitedPapers() output:\n",
    "                              dtype={'Key':np.str_})\n",
    "                         )\n",
    "CurrentRound=previousPapersDf.Round.max()\n",
    "CurrentRound"
   ]
  },
  {
   "cell_type": "code",
   "execution_count": 6,
   "metadata": {},
   "outputs": [
    {
     "name": "stdout",
     "output_type": "stream",
     "text": [
      "4\n"
     ]
    },
    {
     "data": {
      "text/html": [
       "<div>\n",
       "<style scoped>\n",
       "    .dataframe tbody tr th:only-of-type {\n",
       "        vertical-align: middle;\n",
       "    }\n",
       "\n",
       "    .dataframe tbody tr th {\n",
       "        vertical-align: top;\n",
       "    }\n",
       "\n",
       "    .dataframe thead th {\n",
       "        text-align: right;\n",
       "    }\n",
       "</style>\n",
       "<table border=\"1\" class=\"dataframe\">\n",
       "  <thead>\n",
       "    <tr style=\"text-align: right;\">\n",
       "      <th></th>\n",
       "      <th>Key</th>\n",
       "      <th>Round</th>\n",
       "      <th>Citations</th>\n",
       "      <th>Year</th>\n",
       "      <th>Title</th>\n",
       "      <th>Authors</th>\n",
       "      <th>Link</th>\n",
       "      <th>Related</th>\n",
       "      <th>Snippet</th>\n",
       "      <th>AgreedScore</th>\n",
       "      <th>NeedsDiscuss</th>\n",
       "      <th>Pierre</th>\n",
       "      <th>P Comment</th>\n",
       "      <th>Charles</th>\n",
       "      <th>C comment</th>\n",
       "      <th>Agreement</th>\n",
       "      <th>Unnamed: 16</th>\n",
       "    </tr>\n",
       "  </thead>\n",
       "  <tbody>\n",
       "    <tr>\n",
       "      <th>514</th>\n",
       "      <td>662201613823385404</td>\n",
       "      <td>4</td>\n",
       "      <td>133</td>\n",
       "      <td>2018</td>\n",
       "      <td>Do developers update their library dependencies?</td>\n",
       "      <td>RG Kula, DM German, A Ouni, T Ishio…</td>\n",
       "      <td>https://link.springer.com/article/10.1007/s106...</td>\n",
       "      <td>PB-i-ducMAkJ</td>\n",
       "      <td>Third-party library reuse has become common pr...</td>\n",
       "      <td>8.0</td>\n",
       "      <td>1.0</td>\n",
       "      <td>8.0</td>\n",
       "      <td>8 (3 2 3)</td>\n",
       "      <td>8.0</td>\n",
       "      <td>NaN</td>\n",
       "      <td>NaN</td>\n",
       "      <td>NaN</td>\n",
       "    </tr>\n",
       "    <tr>\n",
       "      <th>558</th>\n",
       "      <td>8515816864495030621</td>\n",
       "      <td>4</td>\n",
       "      <td>92</td>\n",
       "      <td>2018</td>\n",
       "      <td>Lessons from building static analysis tools at...</td>\n",
       "      <td>C Sadowski, E Aftandilian, A Eagle…</td>\n",
       "      <td>https://pub-tools-public-publication-data.stor...</td>\n",
       "      <td>XdGBzFFCLnYJ</td>\n",
       "      <td>SOFTWARE BUGS COST developers and software com...</td>\n",
       "      <td>8.0</td>\n",
       "      <td>1.0</td>\n",
       "      <td>8.0</td>\n",
       "      <td>8 (3 3 2)</td>\n",
       "      <td>6.0</td>\n",
       "      <td>Is this almost a duplicate?</td>\n",
       "      <td>NaN</td>\n",
       "      <td>NaN</td>\n",
       "    </tr>\n",
       "    <tr>\n",
       "      <th>604</th>\n",
       "      <td>3189859254953420294</td>\n",
       "      <td>4</td>\n",
       "      <td>65</td>\n",
       "      <td>2017</td>\n",
       "      <td>DevSecOps: a multivocal literature review</td>\n",
       "      <td>H Myrbakken, R Colomo-Palacios</td>\n",
       "      <td>https://www.researchgate.net/profile/Havard-My...</td>\n",
       "      <td>Bqb9fheoRCwJ</td>\n",
       "      <td>Involving security in DevOps has been a challe...</td>\n",
       "      <td>7.0</td>\n",
       "      <td>1.0</td>\n",
       "      <td>5.0</td>\n",
       "      <td>5 (2 1 2)</td>\n",
       "      <td>8.0</td>\n",
       "      <td>NaN</td>\n",
       "      <td>NaN</td>\n",
       "      <td>NaN</td>\n",
       "    </tr>\n",
       "    <tr>\n",
       "      <th>612</th>\n",
       "      <td>5051860876178524246</td>\n",
       "      <td>4</td>\n",
       "      <td>107</td>\n",
       "      <td>2015</td>\n",
       "      <td>A descriptive study of Microsoft's threat mode...</td>\n",
       "      <td>R Scandariato, K Wuyts, W Joosen</td>\n",
       "      <td>https://link.springer.com/article/10.1007/s007...</td>\n",
       "      <td>VohQc7PQG0YJ</td>\n",
       "      <td>Microsoft's STRIDE is a popular threat modelin...</td>\n",
       "      <td>8.0</td>\n",
       "      <td>1.0</td>\n",
       "      <td>5.0</td>\n",
       "      <td>5 (2 1 2)</td>\n",
       "      <td>9.0</td>\n",
       "      <td>NaN</td>\n",
       "      <td>NaN</td>\n",
       "      <td>NaN</td>\n",
       "    </tr>\n",
       "  </tbody>\n",
       "</table>\n",
       "</div>"
      ],
      "text/plain": [
       "                     Key  Round  Citations  Year  \\\n",
       "514   662201613823385404      4        133  2018   \n",
       "558  8515816864495030621      4         92  2018   \n",
       "604  3189859254953420294      4         65  2017   \n",
       "612  5051860876178524246      4        107  2015   \n",
       "\n",
       "                                                 Title  \\\n",
       "514   Do developers update their library dependencies?   \n",
       "558  Lessons from building static analysis tools at...   \n",
       "604          DevSecOps: a multivocal literature review   \n",
       "612  A descriptive study of Microsoft's threat mode...   \n",
       "\n",
       "                                  Authors  \\\n",
       "514  RG Kula, DM German, A Ouni, T Ishio…   \n",
       "558   C Sadowski, E Aftandilian, A Eagle…   \n",
       "604        H Myrbakken, R Colomo-Palacios   \n",
       "612      R Scandariato, K Wuyts, W Joosen   \n",
       "\n",
       "                                                  Link       Related  \\\n",
       "514  https://link.springer.com/article/10.1007/s106...  PB-i-ducMAkJ   \n",
       "558  https://pub-tools-public-publication-data.stor...  XdGBzFFCLnYJ   \n",
       "604  https://www.researchgate.net/profile/Havard-My...  Bqb9fheoRCwJ   \n",
       "612  https://link.springer.com/article/10.1007/s007...  VohQc7PQG0YJ   \n",
       "\n",
       "                                               Snippet  AgreedScore  \\\n",
       "514  Third-party library reuse has become common pr...          8.0   \n",
       "558  SOFTWARE BUGS COST developers and software com...          8.0   \n",
       "604  Involving security in DevOps has been a challe...          7.0   \n",
       "612  Microsoft's STRIDE is a popular threat modelin...          8.0   \n",
       "\n",
       "     NeedsDiscuss  Pierre  P Comment  Charles                    C comment  \\\n",
       "514           1.0     8.0  8 (3 2 3)      8.0                          NaN   \n",
       "558           1.0     8.0  8 (3 3 2)      6.0  Is this almost a duplicate?   \n",
       "604           1.0     5.0  5 (2 1 2)      8.0                          NaN   \n",
       "612           1.0     5.0  5 (2 1 2)      9.0                          NaN   \n",
       "\n",
       "     Agreement Unnamed: 16  \n",
       "514        NaN         NaN  \n",
       "558        NaN         NaN  \n",
       "604        NaN         NaN  \n",
       "612        NaN         NaN  "
      ]
     },
     "execution_count": 6,
     "metadata": {},
     "output_type": "execute_result"
    }
   ],
   "source": [
    "# Get the accepted papers from the latest round of coding:\n",
    "papersToFollowDf=previousPapersDf.query('Round=={} and AgreedScore > 6'.format(CurrentRound))\n",
    "print(len(papersToFollowDf))\n",
    "papersToFollowDf"
   ]
  },
  {
   "cell_type": "code",
   "execution_count": 7,
   "metadata": {},
   "outputs": [
    {
     "name": "stdout",
     "output_type": "stream",
     "text": [
      "Retrieving 101 papers for {'q': 'related:PB-i-ducMAkJ:scholar.google.com/'}\n",
      "Retrieving 101 papers for {'q': 'related:XdGBzFFCLnYJ:scholar.google.com/'}\n",
      "Retrieving 101 papers for {'q': 'related:Bqb9fheoRCwJ:scholar.google.com/'}\n",
      "Retrieving 101 papers for {'q': 'related:VohQc7PQG0YJ:scholar.google.com/'}\n"
     ]
    },
    {
     "data": {
      "text/plain": [
       "404"
      ]
     },
     "execution_count": 7,
     "metadata": {},
     "output_type": "execute_result"
    }
   ],
   "source": [
    "# Ask Google for the 'related publications' for each newly coded item (takes a long time)\n",
    "# Concatenate returned lists...\n",
    "newPapers = [foundPaper for relatedPaper in papersToFollowDf.itertuples()\n",
    "                 for foundPaper in GetPapers(RelatedQuery(relatedPaper.Related))\n",
    "            ] \n",
    "len(newPapers)\n"
   ]
  },
  {
   "cell_type": "code",
   "execution_count": 8,
   "metadata": {},
   "outputs": [],
   "source": [
    "with open( \"papersFound.p\", \"rb\" ) as inFile:\n",
    "    allPapers=pickle.load( inFile ) + newPapers"
   ]
  },
  {
   "cell_type": "code",
   "execution_count": 9,
   "metadata": {},
   "outputs": [],
   "source": [
    "# The Google queries take a long time and can cost money. \n",
    "# We save the results as 'pickle' dumps, \n",
    "# Can also 'comment out' the slow parts by changing the cell type to 'Raw NB Convert'; \n",
    "# to redo the queries, convert them back again to Code.\n",
    "\n",
    "with open( \"papersFound.p\", \"wb\" ) as outFile:\n",
    "    pickle.dump( allPapers, outFile )"
   ]
  },
  {
   "cell_type": "code",
   "execution_count": 10,
   "metadata": {},
   "outputs": [
    {
     "data": {
      "text/plain": [
       "4238"
      ]
     },
     "execution_count": 10,
     "metadata": {},
     "output_type": "execute_result"
    }
   ],
   "source": [
    "# How many unique papers so far?\n",
    "\n",
    "pd.Series([paper['result_id'] for paper in allPapers]).unique().size"
   ]
  },
  {
   "cell_type": "code",
   "execution_count": 11,
   "metadata": {},
   "outputs": [
    {
     "data": {
      "text/plain": [
       "61"
      ]
     },
     "execution_count": 11,
     "metadata": {},
     "output_type": "execute_result"
    }
   ],
   "source": [
    "newPapersDf=(WellCitedPapers(newPapers, requiredAnnualCount=RequiredAnnualCount)\n",
    "           .reindex(columns=previousPapersDf.columns, fill_value='') # Add in the extra classification columns.\n",
    "            .assign(Round=CurrentRound+1)\n",
    "          )\n",
    "len(newPapersDf)"
   ]
  },
  {
   "cell_type": "code",
   "execution_count": 12,
   "metadata": {},
   "outputs": [
    {
     "data": {
      "text/plain": [
       "645"
      ]
     },
     "execution_count": 12,
     "metadata": {},
     "output_type": "execute_result"
    }
   ],
   "source": [
    "allPapersSoFarDf=(pd.concat([previousPapersDf, newPapersDf]) # Keep already coded papers - don't want to recode.\n",
    "                .drop_duplicates(subset=['Key'])  # Only want new ones - this keeps the earlier entries.\n",
    "                .reset_index(drop=True)           # Don't need to keep the old numbering.\n",
    "               )\n",
    "allPapersSoFarDf.to_excel('PapersToCode.xlsx')\n",
    "len(allPapersSoFarDf)\n",
    "#allPapersSoFarDf"
   ]
  },
  {
   "cell_type": "code",
   "execution_count": 13,
   "metadata": {},
   "outputs": [],
   "source": [
    "!open PapersToCode.xlsx"
   ]
  },
  {
   "cell_type": "code",
   "execution_count": 14,
   "metadata": {},
   "outputs": [
    {
     "ename": "AssertionError",
     "evalue": "",
     "output_type": "error",
     "traceback": [
      "\u001b[0;31m---------------------------------------------------------------------------\u001b[0m",
      "\u001b[0;31mAssertionError\u001b[0m                            Traceback (most recent call last)",
      "\u001b[0;32m<ipython-input-14-8808c4021c9c>\u001b[0m in \u001b[0;36m<module>\u001b[0;34m\u001b[0m\n\u001b[0;32m----> 1\u001b[0;31m \u001b[0;32massert\u001b[0m\u001b[0;34m(\u001b[0m\u001b[0;32mFalse\u001b[0m\u001b[0;34m)\u001b[0m\u001b[0;34m\u001b[0m\u001b[0;34m\u001b[0m\u001b[0m\n\u001b[0m",
      "\u001b[0;31mAssertionError\u001b[0m: "
     ]
    }
   ],
   "source": [
    "assert(False)"
   ]
  },
  {
   "cell_type": "code",
   "execution_count": null,
   "metadata": {},
   "outputs": [],
   "source": [
    "!open ScholarUtils.py"
   ]
  },
  {
   "cell_type": "code",
   "execution_count": null,
   "metadata": {},
   "outputs": [],
   "source": []
  }
 ],
 "metadata": {
  "colab": {
   "collapsed_sections": [],
   "include_colab_link": true,
   "name": "NLP_example_clustering.ipynb",
   "provenance": []
  },
  "kernelspec": {
   "display_name": "Python 3",
   "language": "python",
   "name": "python3"
  },
  "language_info": {
   "codemirror_mode": {
    "name": "ipython",
    "version": 3
   },
   "file_extension": ".py",
   "mimetype": "text/x-python",
   "name": "python",
   "nbconvert_exporter": "python",
   "pygments_lexer": "ipython3",
   "version": "3.7.9"
  }
 },
 "nbformat": 4,
 "nbformat_minor": 1
}
