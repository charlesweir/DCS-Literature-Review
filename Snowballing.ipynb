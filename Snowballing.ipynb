{
 "cells": [
  {
   "cell_type": "markdown",
   "metadata": {},
   "source": [
    "# Snowballing, for rounds 2 and above\n",
    "\n",
    "This takes each newly-coded spreadsheet of papers and queries further 'related articles' from the newly selected papers. Each time it runs it retrieves a new set of candidates and adds them to the list, saving them to a new spreadsheet.\n",
    "\n",
    "Before starting, the previous spreadsheet, PapersToCode.xlsx (starting with N=2), should be double coded, adding coding values (7 or above means 'accept') in the column for each coder (C and P) and in the AgreedScore column (the result of coder discussion). Save the result as CodedPapers.xlsx.\n",
    "\n",
    "Change the coder names in the FirstStep and Analysis notebook if desired.\n",
    "\n",
    "Copyright &copy; 2021.   \n",
    "Shared under the Apache 2.0 License"
   ]
  },
  {
   "cell_type": "code",
   "execution_count": 1,
   "metadata": {},
   "outputs": [],
   "source": [
    "# We upped this count after round 3 to 19 (see Analysis notebook)\n",
    "RequiredAnnualCount=1\n",
    "FinalYear=2021"
   ]
  },
  {
   "cell_type": "code",
   "execution_count": 2,
   "metadata": {
    "colab": {
     "base_uri": "https://localhost:8080/",
     "height": 293
    },
    "colab_type": "code",
    "id": "VD37eEggwAcN",
    "outputId": "016164cc-d8df-42fe-8797-48482a2513bb"
   },
   "outputs": [],
   "source": [
    "# !pip install google-search-results\n",
    "from serpapi import GoogleScholarSearch\n",
    "from ScholarUtils import GetPapers, GetPaper, WellCitedPapers, InitScholar, RelatedQuery"
   ]
  },
  {
   "cell_type": "code",
   "execution_count": 3,
   "metadata": {
    "colab": {
     "base_uri": "https://localhost:8080/",
     "height": 423
    },
    "colab_type": "code",
    "id": "bg0FZIzozs9Q",
    "outputId": "7f97b83a-f557-46f8-c472-ce361aa121f6"
   },
   "outputs": [],
   "source": [
    "import pandas as pd\n",
    "import numpy as np\n",
    "import pickle\n",
    "# Reload ScholarUtils every time before executing code \n",
    "%load_ext autoreload\n",
    "%autoreload 2"
   ]
  },
  {
   "cell_type": "code",
   "execution_count": 4,
   "metadata": {},
   "outputs": [],
   "source": [
    "InitScholar(\"APIKey.yaml\")"
   ]
  },
  {
   "cell_type": "code",
   "execution_count": 5,
   "metadata": {},
   "outputs": [
    {
     "data": {
      "text/plain": [
       "2"
      ]
     },
     "execution_count": 5,
     "metadata": {},
     "output_type": "execute_result"
    }
   ],
   "source": [
    "scoringSpreadsheet=\"CodedPapers.xlsx\"\n",
    "previousPapersDf=(pd.read_excel(scoringSpreadsheet, index_col=0,\n",
    "                                # Want Key as string, not number, to match WellCitedPapers() output:\n",
    "                              dtype={'Key':np.str_})\n",
    "                         )\n",
    "CurrentRound=previousPapersDf.Round.max()\n",
    "CurrentRound"
   ]
  },
  {
   "cell_type": "code",
   "execution_count": 6,
   "metadata": {},
   "outputs": [
    {
     "name": "stdout",
     "output_type": "stream",
     "text": [
      "2\n"
     ]
    },
    {
     "data": {
      "text/html": [
       "<div>\n",
       "<style scoped>\n",
       "    .dataframe tbody tr th:only-of-type {\n",
       "        vertical-align: middle;\n",
       "    }\n",
       "\n",
       "    .dataframe tbody tr th {\n",
       "        vertical-align: top;\n",
       "    }\n",
       "\n",
       "    .dataframe thead th {\n",
       "        text-align: right;\n",
       "    }\n",
       "</style>\n",
       "<table border=\"1\" class=\"dataframe\">\n",
       "  <thead>\n",
       "    <tr style=\"text-align: right;\">\n",
       "      <th></th>\n",
       "      <th>Key</th>\n",
       "      <th>Round</th>\n",
       "      <th>Citations</th>\n",
       "      <th>Year</th>\n",
       "      <th>Title</th>\n",
       "      <th>Authors</th>\n",
       "      <th>Link</th>\n",
       "      <th>Related</th>\n",
       "      <th>Snippet</th>\n",
       "      <th>C</th>\n",
       "      <th>P</th>\n",
       "      <th>AgreedScore</th>\n",
       "    </tr>\n",
       "  </thead>\n",
       "  <tbody>\n",
       "    <tr>\n",
       "      <th>28</th>\n",
       "      <td>7884234468971956873</td>\n",
       "      <td>2</td>\n",
       "      <td>103</td>\n",
       "      <td>2018</td>\n",
       "      <td>Future developments in cyber risk assessment f...</td>\n",
       "      <td>P Radanliev, DC De Roure, R Nicolescu, M Huth…</td>\n",
       "      <td>https://www.sciencedirect.com/science/article/...</td>\n",
       "      <td>icr2IHptam0J</td>\n",
       "      <td>This article is focused on the economic impact...</td>\n",
       "      <td>NaN</td>\n",
       "      <td>NaN</td>\n",
       "      <td>7.0</td>\n",
       "    </tr>\n",
       "    <tr>\n",
       "      <th>41</th>\n",
       "      <td>15098848452248305004</td>\n",
       "      <td>2</td>\n",
       "      <td>6</td>\n",
       "      <td>2020</td>\n",
       "      <td>Cyber risk measurement with ordinal data</td>\n",
       "      <td>S Facchinetti, P Giudici, SA Osmetti</td>\n",
       "      <td>https://link.springer.com/article/10.1007/s102...</td>\n",
       "      <td>bH23kaviidEJ</td>\n",
       "      <td>The paper proposes a new methodology to measur...</td>\n",
       "      <td>NaN</td>\n",
       "      <td>NaN</td>\n",
       "      <td>7.0</td>\n",
       "    </tr>\n",
       "  </tbody>\n",
       "</table>\n",
       "</div>"
      ],
      "text/plain": [
       "                     Key  Round  Citations  Year  \\\n",
       "28   7884234468971956873      2        103  2018   \n",
       "41  15098848452248305004      2          6  2020   \n",
       "\n",
       "                                                Title  \\\n",
       "28  Future developments in cyber risk assessment f...   \n",
       "41           Cyber risk measurement with ordinal data   \n",
       "\n",
       "                                           Authors  \\\n",
       "28  P Radanliev, DC De Roure, R Nicolescu, M Huth…   \n",
       "41            S Facchinetti, P Giudici, SA Osmetti   \n",
       "\n",
       "                                                 Link       Related  \\\n",
       "28  https://www.sciencedirect.com/science/article/...  icr2IHptam0J   \n",
       "41  https://link.springer.com/article/10.1007/s102...  bH23kaviidEJ   \n",
       "\n",
       "                                              Snippet   C   P  AgreedScore  \n",
       "28  This article is focused on the economic impact... NaN NaN          7.0  \n",
       "41  The paper proposes a new methodology to measur... NaN NaN          7.0  "
      ]
     },
     "execution_count": 6,
     "metadata": {},
     "output_type": "execute_result"
    }
   ],
   "source": [
    "# Get the accepted papers from the latest round of coding:\n",
    "papersToFollowDf=previousPapersDf.query('Round=={} and AgreedScore > 6'.format(CurrentRound))\n",
    "print(len(papersToFollowDf))\n",
    "papersToFollowDf"
   ]
  },
  {
   "cell_type": "code",
   "execution_count": 8,
   "metadata": {},
   "outputs": [
    {
     "name": "stdout",
     "output_type": "stream",
     "text": [
      "Retrieving 101 papers for {'q': 'related:icr2IHptam0J:scholar.google.com/'}\n",
      "Retrieving 101 papers for {'q': 'related:bH23kaviidEJ:scholar.google.com/'}\n"
     ]
    },
    {
     "data": {
      "text/plain": [
       "202"
      ]
     },
     "execution_count": 8,
     "metadata": {},
     "output_type": "execute_result"
    }
   ],
   "source": [
    "# Ask Google for the 'related publications' for each newly coded item (takes a long time)\n",
    "# Concatenate returned lists...\n",
    "newPapers = [foundPaper for relatedPaper in papersToFollowDf.itertuples()\n",
    "                 for foundPaper in GetPapers(RelatedQuery(relatedPaper.Related))\n",
    "            ] \n",
    "len(newPapers)\n"
   ]
  },
  {
   "cell_type": "code",
   "execution_count": 9,
   "metadata": {},
   "outputs": [],
   "source": [
    "if CurrentRound == 1:\n",
    "    allPapers=newPapers\n",
    "else:\n",
    "    with open( \"papersFound.p\", \"rb\" ) as inFile:\n",
    "        allPapers=pickle.load( inFile ) + newPapers"
   ]
  },
  {
   "cell_type": "code",
   "execution_count": 10,
   "metadata": {},
   "outputs": [],
   "source": [
    "# The Google queries take a long time and can cost money. \n",
    "# We save the results as 'pickle' dumps, \n",
    "# Can also 'comment out' the slow parts by changing the cell type to 'Raw NB Convert'; \n",
    "# to redo the queries, convert them back again to Code.\n",
    "\n",
    "with open( \"papersFound.p\", \"wb\" ) as outFile:\n",
    "    pickle.dump( allPapers, outFile )"
   ]
  },
  {
   "cell_type": "code",
   "execution_count": 11,
   "metadata": {},
   "outputs": [
    {
     "data": {
      "text/plain": [
       "393"
      ]
     },
     "execution_count": 11,
     "metadata": {},
     "output_type": "execute_result"
    }
   ],
   "source": [
    "# How many unique papers so far?\n",
    "\n",
    "pd.Series([paper['result_id'] for paper in allPapers]).unique().size"
   ]
  },
  {
   "cell_type": "code",
   "execution_count": 12,
   "metadata": {},
   "outputs": [
    {
     "data": {
      "text/plain": [
       "142"
      ]
     },
     "execution_count": 12,
     "metadata": {},
     "output_type": "execute_result"
    }
   ],
   "source": [
    "newPapersDf=(WellCitedPapers(newPapers, requiredAnnualCount=RequiredAnnualCount, finalYear=FinalYear)\n",
    "           .reindex(columns=previousPapersDf.columns, fill_value='') # Add in the extra classification columns.\n",
    "            .assign(Round=CurrentRound+1)\n",
    "          )\n",
    "len(newPapersDf)"
   ]
  },
  {
   "cell_type": "code",
   "execution_count": 13,
   "metadata": {},
   "outputs": [
    {
     "data": {
      "text/plain": [
       "273"
      ]
     },
     "execution_count": 13,
     "metadata": {},
     "output_type": "execute_result"
    }
   ],
   "source": [
    "allPapersSoFarDf=(pd.concat([previousPapersDf, newPapersDf]) # Keep already coded papers - don't want to recode.\n",
    "                .drop_duplicates(subset=['Key'])  # Only want new ones - this keeps the earlier entries.\n",
    "                .reset_index(drop=True)           # Don't need to keep the old numbering.\n",
    "               )\n",
    "allPapersSoFarDf.to_excel('PapersToCode.xlsx')\n",
    "len(allPapersSoFarDf)\n",
    "#allPapersSoFarDf"
   ]
  },
  {
   "cell_type": "code",
   "execution_count": 14,
   "metadata": {},
   "outputs": [],
   "source": [
    "!open PapersToCode.xlsx"
   ]
  },
  {
   "cell_type": "code",
   "execution_count": 15,
   "metadata": {},
   "outputs": [
    {
     "ename": "AssertionError",
     "evalue": "",
     "output_type": "error",
     "traceback": [
      "\u001b[0;31m---------------------------------------------------------------------------\u001b[0m",
      "\u001b[0;31mAssertionError\u001b[0m                            Traceback (most recent call last)",
      "\u001b[0;32m<ipython-input-15-8808c4021c9c>\u001b[0m in \u001b[0;36m<module>\u001b[0;34m\u001b[0m\n\u001b[0;32m----> 1\u001b[0;31m \u001b[0;32massert\u001b[0m\u001b[0;34m(\u001b[0m\u001b[0;32mFalse\u001b[0m\u001b[0;34m)\u001b[0m\u001b[0;34m\u001b[0m\u001b[0;34m\u001b[0m\u001b[0m\n\u001b[0m",
      "\u001b[0;31mAssertionError\u001b[0m: "
     ]
    }
   ],
   "source": [
    "assert(False)"
   ]
  },
  {
   "cell_type": "code",
   "execution_count": null,
   "metadata": {},
   "outputs": [],
   "source": [
    "!open ScholarUtils.py"
   ]
  },
  {
   "cell_type": "code",
   "execution_count": null,
   "metadata": {},
   "outputs": [],
   "source": []
  }
 ],
 "metadata": {
  "colab": {
   "collapsed_sections": [],
   "include_colab_link": true,
   "name": "NLP_example_clustering.ipynb",
   "provenance": []
  },
  "kernelspec": {
   "display_name": "Python 3",
   "language": "python",
   "name": "python3"
  },
  "language_info": {
   "codemirror_mode": {
    "name": "ipython",
    "version": 3
   },
   "file_extension": ".py",
   "mimetype": "text/x-python",
   "name": "python",
   "nbconvert_exporter": "python",
   "pygments_lexer": "ipython3",
   "version": "3.7.9"
  }
 },
 "nbformat": 4,
 "nbformat_minor": 1
}
